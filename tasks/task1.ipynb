{
 "cells": [
  {
   "cell_type": "markdown",
   "id": "054dad85",
   "metadata": {},
   "source": [
    "# Task 1 - Qiskit Basics\n",
    "\n",
    "This task involves using simple gates functionality in Qiskit."
   ]
  },
  {
   "cell_type": "code",
   "execution_count": null,
   "id": "6e0c7089",
   "metadata": {},
   "outputs": [
    {
     "ename": "",
     "evalue": "",
     "output_type": "error",
     "traceback": [
      "\u001b[1;31mRunning cells with '.venv (Python 3.11.0)' requires the ipykernel package.\n",
      "\u001b[1;31mInstall 'ipykernel' into the Python environment. \n",
      "\u001b[1;31mCommand: '\"c:/Users/h8009/Desktop/CSC 4700/lab4/.venv/Scripts/python.exe\" -m pip install ipykernel -U --force-reinstall'"
     ]
    }
   ],
   "source": [
    "# Add imports here, do not add any other code in this cell\n",
    "#from state import State, run\n",
    "from qiskit import QuantumCircuit, QuantumRegister, ClassicalRegister\n",
    "from qiskit.visualization import array_to_latex"
   ]
  },
  {
   "cell_type": "code",
   "execution_count": null,
   "id": "ae870e77",
   "metadata": {},
   "outputs": [],
   "source": [
    "# Task 1.1 - Initialize a Quantum Circuit with 2 qubits and apply an X gate to the second qubit.\n",
    "# Then, measure all qubits and draw the circuit using the default text drawer.\n",
    "qc1 = QuantumCircuit(2)\n",
    "qc1.x(1)\n",
    "qc1.measure_all()\n",
    "qc1.draw()\n",
    "#print(run(qc1))\n",
    "\n"
   ]
  },
  {
   "cell_type": "code",
   "execution_count": null,
   "id": "9c85b25e",
   "metadata": {},
   "outputs": [],
   "source": [
    "# Task 1.2 - Initialize a Quantum Circuit with 2 qubits and 2 classical bits, apply an H gate to both qubits.\n",
    "# Use a single H gate call and a single measure call.\n",
    "# Then, measure all qubits on the initialized classical bits, and draw the circuit in matplotlib style.\n",
    "qc2 = QuantumCircuit(2, 2)\n",
    "qc2.h(0, 1)\n",
    "qc2.measure([0, 1], [0, 1])\n",
    "qc2.draw('mpl')\n",
    "\n"
   ]
  },
  {
   "cell_type": "code",
   "execution_count": null,
   "id": "73d72a2f",
   "metadata": {},
   "outputs": [],
   "source": [
    "# Task 1.3 - Initialize a quantum register and a classical register with 2 qubits/bits each.\n",
    "# Create a quantum circuit using these registers.\n",
    "# Name the quantum register \"Q\" and the classical register \"C\".\n",
    "# Create a bell pair\n",
    "# Measure all qubits on the classical bits and draw the circuit using the default text drawer.\n",
    "qreg = QuantumRegister(2, 'Q')\n",
    "creg = ClassicalRegister(2, 'C')\n",
    "qc3 = QuantumCircuit(qreg, creg)\n",
    "qc3.h(0)\n",
    "qc3.cx(0, 1)\n",
    "qc3.measure(qreg, creg)\n",
    "qc3.draw()\n",
    "\n",
    "\n"
   ]
  },
  {
   "cell_type": "code",
   "execution_count": null,
   "id": "3e50bfc5",
   "metadata": {},
   "outputs": [],
   "source": [
    "# Task 1.4 - Print the depth and size of the circuit created in Task 1.3\n",
    "wd = qc3.width()\n",
    "dp = qc3.depth()\n",
    "sz = qc3.size()\n",
    "print(wd, dp, sz)"
   ]
  }
 ],
 "metadata": {
  "kernelspec": {
   "display_name": ".venv",
   "language": "python",
   "name": "python3"
  },
  "language_info": {
   "codemirror_mode": {
    "name": "ipython",
    "version": 3
   },
   "file_extension": ".py",
   "mimetype": "text/x-python",
   "name": "python",
   "nbconvert_exporter": "python",
   "pygments_lexer": "ipython3",
   "version": "3.11.0"
  }
 },
 "nbformat": 4,
 "nbformat_minor": 5
}
