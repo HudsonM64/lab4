{
 "cells": [
  {
   "cell_type": "markdown",
   "id": "6f5d88ed",
   "metadata": {},
   "source": [
    "# Task 3 - Qiskit Aer Simulator\n",
    "\n",
    "Tasks 1 and 2 only involve visualizing the states and the circuits using Qiskit.\n",
    "To view the results of measurements, we need a simulator to run those circuits. Qiskit Aer is a powerful simulator for that matter."
   ]
  },
  {
   "cell_type": "code",
   "execution_count": null,
   "id": "774f76a8",
   "metadata": {},
   "outputs": [],
   "source": [
    "# Add imports here, no code other than imports in this cell\n",
    "from qiskit_aer import AerSimulator\n",
    "from qiskit import QuantumCircuit, transpile\n",
    "from qiskit.visualization import plot_histogram"
   ]
  },
  {
   "cell_type": "code",
   "execution_count": null,
   "id": "2f6b67f1",
   "metadata": {},
   "outputs": [],
   "source": [
    "# Task 3.1 - Create a Bell pair circuit. Add measurements to all qubits.\n",
    "# Take shots=10,000 and use all methods ('statevector', 'stabilizer', 'extended_stabilizer', 'density_matrix', 'matrix_product_state') to run the circuit and get the \n",
    "# Plot the counts in one histogram.\n",
    "# Note: Some methods may take longer time to run.\n",
    "\n",
    "qc = QuantumCircuit(2)\n",
    "shots = 10000\n",
    "qc.h(0)\n",
    "qc.cx(0, 1)\n",
    "qc.measure_all()\n",
    "\n",
    "#compiled = transpile(qc)\n",
    "\n",
    "sv_sim = AerSimulator(method = \"statevector\")\n",
    "compiled = transpile(qc, sv_sim)\n",
    "sv_res = sv_sim.run(compiled, shots = 10000)\n",
    "\n",
    "s_sim = AerSimulator(method = \"sabilizer\")\n",
    "compiled = transpile(qc, s_sim)\n",
    "s_res = s_sim.run(compiled, shots = 10000)\n",
    "\n",
    "es_sim = AerSimulator(method = \"extended_stabilizer\")\n",
    "compiled = transpile(qc, es_sim)\n",
    "es_res = es_sim.run(compiled, shots = 10000)\n",
    "\n",
    "dm_sim = AerSimulator(method = \"density_matrix\")\n",
    "compiled = transpile(qc, dm_sim)\n",
    "dm_res = dm_sim.run(compiled, shots = 10000)\n",
    "\n",
    "mp_sim = AerSimulator(method = \"matrix_product_state\")\n",
    "compiled = transpile(qc, mp_sim)\n",
    "mp_res = mp_sim.run(compiled, shots = 10000)\n",
    "\n",
    "print(sv_res.result().get_counts(0))\n",
    "plot_histogram([sv_res.result().get_counts(0), s_res.result().get_counts(0), es_res.result().get_counts(0), dm_res.result().get_counts(0), mp_res.result().get_counts(0)], \n",
    "                legend = ['statevector', 'stabilizer', 'es', 'dm', 'mp'])"
   ]
  },
  {
   "cell_type": "code",
   "execution_count": null,
   "id": "ad7a1895",
   "metadata": {},
   "outputs": [],
   "source": [
    "# Task 3.2 - Create a Cat state 1/sqrt(2)(|001> - |110>). Visualize the state using a qsphere.\n",
    "\n",
    "qc1 = QuantumCircuit(3)\n",
    "qc1.h(0)\n",
    "qc1.cx(0, 1)\n",
    "qc1.x(1)\n",
    "qc1.cx(1, 2)\n",
    "qc1.x(1)\n",
    "qc1.x(0)\n",
    "print(qc1)\n",
    "#qc1.measure_all()\n",
    "print(qc1)\n",
    "qc1.draw('qshpere')\n",
    "\n"
   ]
  },
  {
   "cell_type": "code",
   "execution_count": null,
   "id": "ce73da66",
   "metadata": {},
   "outputs": [],
   "source": [
    "# Task 3.3 - Plot the histogram of the results of Task 3.2 after adding measurements to all qubits and running the circuit with shots=10,000 using density_matrix method.\n",
    "\n",
    "shots = 10000\n",
    "qc1.measure_all()\n",
    "\n",
    "dm_sim = AerSimulator(method = \"density_matrix\")\n",
    "compiled = transpile(qc1, dm_sim)\n",
    "dm_res = dm_sim.run(compiled, shots = 10000)\n",
    "\n",
    "plot_histogram([dm_res.result().get_counts(0)])"
   ]
  }
 ],
 "metadata": {
  "kernelspec": {
   "display_name": ".venv",
   "language": "python",
   "name": "python3"
  },
  "language_info": {
   "codemirror_mode": {
    "name": "ipython",
    "version": 3
   },
   "file_extension": ".py",
   "mimetype": "text/x-python",
   "name": "python",
   "nbconvert_exporter": "python",
   "pygments_lexer": "ipython3",
   "version": "3.13.7"
  }
 },
 "nbformat": 4,
 "nbformat_minor": 5
}
